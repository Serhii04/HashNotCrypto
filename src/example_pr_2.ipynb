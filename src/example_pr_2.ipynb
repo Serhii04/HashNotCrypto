{
 "cells": [
  {
   "cell_type": "code",
   "execution_count": 95,
   "metadata": {},
   "outputs": [],
   "source": [
    "import numpy as np\n",
    "import random\n",
    "import hashlib\n",
    "from bisect import bisect, bisect_left\n",
    "\n",
    "from typing import Callable"
   ]
  },
  {
   "cell_type": "code",
   "execution_count": 96,
   "metadata": {},
   "outputs": [],
   "source": [
    "def alg1(K: int, L: int, R: Callable, n: int, h: Callable) -> [[int, int], ...]:\n",
    "    # x = np.zeros((K, 2), dtype=int)\n",
    "    x = [[0 for i in range(2)] for j in range(K)]\n",
    "    max_allow_x = pow(2, n) - 1\n",
    "    \n",
    "    for i in range(K):\n",
    "        x[i][0] = random.randint(0, max_allow_x)\n",
    "        x_cur = x[i][0]\n",
    "        for j in range(L):\n",
    "            # x[i, j + 1] = h(R(x[i, j]))\n",
    "            x_cur = h(R(x_cur))\n",
    "\n",
    "        x[i][1] = x_cur\n",
    "\n",
    "    return x"
   ]
  },
  {
   "cell_type": "code",
   "execution_count": 97,
   "metadata": {},
   "outputs": [],
   "source": [
    "def bisect_left_castom(a, x, m, lo=0, hi=None, *, key=None,):\n",
    "    if lo < 0:\n",
    "        raise ValueError('lo must be non-negative')\n",
    "    if hi is None:\n",
    "        hi = len(a)\n",
    "    # Note, the comparison uses \"<\" to match the\n",
    "    # __lt__() logic in list.sort() and in heapq.\n",
    "    if key is None:\n",
    "        while lo < hi:\n",
    "            mid = (lo + hi) // 2\n",
    "            if a[mid] < x:\n",
    "                lo = mid + 1\n",
    "            else:\n",
    "                hi = mid\n",
    "    else:\n",
    "        while lo < hi:\n",
    "            mid = (lo + hi) // 2\n",
    "            if key(a[mid]) % m < x % m:\n",
    "                lo = mid + 1\n",
    "            else:\n",
    "                hi = mid\n",
    "    return lo\n",
    "\n",
    "\n",
    "def index(a, x, m):\n",
    "    'Locate the leftmost value exactly equal to x'\n",
    "    i = bisect_left_castom(a, x, m=m, key=lambda x: (x[1]))\n",
    "    if i != len(a) and a[i][1] % m == x % m:\n",
    "        return i\n",
    "    \n",
    "    return None"
   ]
  },
  {
   "cell_type": "code",
   "execution_count": 98,
   "metadata": {},
   "outputs": [],
   "source": [
    "def alg2(K: int, L: int, R: Callable, x: [[int, int], ...], hash_val, n: int, h: Callable) -> int:\n",
    "    m = pow(2, n)\n",
    "    y = hash_val\n",
    "    x_s = sorted(x, key=lambda x: x[1] % m)\n",
    "\n",
    "    for j in range(L):\n",
    "        id = index(x_s, y, m)\n",
    "        if id is not None:\n",
    "            x_ = x_s[id][0]\n",
    "\n",
    "            for m_ in range(L - (j + 1)):\n",
    "                x_ = h(R(x_))\n",
    "\n",
    "            r_val = R(x_)\n",
    "            if h(r_val) % m == hash_val % m:\n",
    "                return r_val\n",
    "            else:\n",
    "                return None\n",
    "        \n",
    "\n",
    "        # for i in range(K):\n",
    "        #     # if x[i][1] % m == y % m:\n",
    "        #     if x[i][1] == y:\n",
    "        #         x_ = x[i][0]\n",
    "\n",
    "        #         for m_ in range(L - (j + 1)):\n",
    "        #             x_ = h(R(x_))\n",
    "\n",
    "        #         r_val = R(x_)\n",
    "        #         if h(r_val) % m == hash_val % m:\n",
    "        #             return r_val\n",
    "        #         else:\n",
    "        #             return None\n",
    "\n",
    "        y = h(R(y))\n",
    "\n",
    "    return None"
   ]
  },
  {
   "cell_type": "code",
   "execution_count": 99,
   "metadata": {},
   "outputs": [],
   "source": [
    "def alg2_slow(K: int, L: int, R: Callable, x: [[int, int], ...], hash_val, n: int, h: Callable) -> int:\n",
    "    m = pow(2, n)\n",
    "    y = hash_val\n",
    "    x_s = sorted(x, key=lambda x: x[1] % m)\n",
    "\n",
    "    for j in range(L):\n",
    "        for i in range(K):\n",
    "            # if x[i][1] % m == y % m:\n",
    "            if x[i][1] == y:\n",
    "                x_ = x[i][0]\n",
    "\n",
    "                for m_ in range(L - (j + 1)):\n",
    "                    x_ = h(R(x_))\n",
    "\n",
    "                r_val = R(x_)\n",
    "                if h(r_val) % m == hash_val % m:\n",
    "                    return r_val\n",
    "                else:\n",
    "                    return None\n",
    "\n",
    "        y = h(R(y))\n",
    "\n",
    "    return None"
   ]
  },
  {
   "cell_type": "code",
   "execution_count": 100,
   "metadata": {},
   "outputs": [],
   "source": [
    "def sha_int_to_int(message: int) -> str:\n",
    "    \"\"\"return hash of int value message\"\"\"\n",
    "    return int(\"0x\" + hashlib.sha256(str(message).encode('ASCII')).hexdigest(), base=16)"
   ]
  },
  {
   "cell_type": "markdown",
   "metadata": {},
   "source": [
    "# Task"
   ]
  },
  {
   "cell_type": "code",
   "execution_count": 101,
   "metadata": {},
   "outputs": [],
   "source": [
    "def attack1(K: int, L: int, n: int, rand_v_hash):\n",
    "    # _r = random.randint(0, pow(2, 128 - n) - 1)\n",
    "    _r =  0x3762d7a3fb50e749963972a36f9c\n",
    "    m = pow(2, n)\n",
    "\n",
    "    def R(x: int):\n",
    "        return _r + (x % m)\n",
    "    \n",
    "    x = alg1(K=K, L=L, R=R, n=n, h=sha_int_to_int)\n",
    "    \n",
    "    # for l in x:\n",
    "    #     print(l)\n",
    "\n",
    "    preimage = alg2(K=K, L=L, R=R, x=x, hash_val=rand_v_hash, n=n, h=sha_int_to_int)\n",
    "    \n",
    "    return preimage\n"
   ]
  },
  {
   "cell_type": "code",
   "execution_count": 102,
   "metadata": {},
   "outputs": [
    {
     "name": "stdout",
     "output_type": "stream",
     "text": [
      "\"Прообраз не знайдено\"\n",
      "\"Прообраз не знайдено\"\n",
      "rand_x = 0x68694bb0caec0f195dcb67cb2d81372f52cb9c3c4a5fc902cfc01b69f00f7561\n",
      "rand_x_hash = 0xe02cb4859d1d3ce4828a2dcc6bcc37ec1c4d7ad4e67977c80d0eccfbafd3ac6c\n",
      "preimage = 0x3762d7a3fb50e749963972a42b75\n",
      "preimage_hash = 0x51465042601e75be69db05a7e5ff2e7a3dbc82652db137611c73b004ad4fac6c\n"
     ]
    },
    {
     "name": "stdout",
     "output_type": "stream",
     "text": [
      "\"Прообраз не знайдено\"\n",
      "\"Прообраз не знайдено\"\n",
      "\"Прообраз не знайдено\"\n",
      "\"Прообраз не знайдено\"\n",
      "\"Прообраз не знайдено\"\n",
      "\"Прообраз не знайдено\"\n",
      "\"Прообраз не знайдено\"\n",
      "\"Прообраз не знайдено\"\n",
      "rand_x = 0x3a916f1ef52f13e1b91223b8aeacaaf636a1eddf7fa5cdf55da4747c9d706b4d\n",
      "rand_x_hash = 0xda5a4e047223eda1e42e657a9420d221628847fdf184bf2de86036f92c283727\n",
      "preimage = 0x3762d7a3fb50e749963972a3c467\n",
      "preimage_hash = 0x77af3f63f857ed4a72ad3e86a3191911ec25e69a4db375d7e9556fe74aa63727\n",
      "\"Прообраз не знайдено\"\n",
      "\"Прообраз не знайдено\"\n",
      "\"Прообраз не знайдено\"\n",
      "\"Прообраз не знайдено\"\n",
      "\"Прообраз не знайдено\"\n",
      "\"Прообраз не знайдено\"\n",
      "\"Прообраз не знайдено\"\n",
      "\"Прообраз не знайдено\"\n"
     ]
    }
   ],
   "source": [
    "if __name__ == \"__main__\":\n",
    "    for _ in range(20):\n",
    "        K = pow(2, 10)\n",
    "        L = pow(2, 5)\n",
    "        n = 16\n",
    "        \n",
    "        rand_v = random.randint(0, pow(2, 256) - 1)\n",
    "        rand_v_hash = sha_int_to_int(rand_v)\n",
    "\n",
    "\n",
    "        preimage = attack1(K=K, L=L, n=n, rand_v_hash=rand_v_hash)\n",
    "\n",
    "        if preimage is None:\n",
    "            print('\"Прообраз не знайдено\"')\n",
    "        else:\n",
    "            preimage_hash = sha_int_to_int(preimage)\n",
    "            print(f\"rand_x = {hex(rand_v)}\")\n",
    "            print(f\"rand_x_hash = {hex(rand_v_hash)}\")\n",
    "            print(f\"preimage = {hex(preimage)}\")\n",
    "            print(f\"preimage_hash = {hex(preimage_hash)}\")"
   ]
  },
  {
   "cell_type": "code",
   "execution_count": 103,
   "metadata": {},
   "outputs": [],
   "source": [
    "def test_attack1(N: int):\n",
    "    if N < 1:\n",
    "        return [None]\n",
    "\n",
    "    n = 16\n",
    "\n",
    "    K_vals = [pow(2, 10), pow(2, 12), pow(2, 14)]\n",
    "    L_vals = [pow(2, 5), pow(2, 6), pow(2, 7)]\n",
    "    results = [[0 for j in range(3)] for i in range(3)]\n",
    "\n",
    "    for i in range(3):\n",
    "        for j in range(3):\n",
    "            for k in range(N):\n",
    "                rand_v = random.randint(0, pow(2, 256) - 1)\n",
    "                rand_v_hash = sha_int_to_int(rand_v)\n",
    "                preimage = attack1(K=K_vals[i], L=L_vals[j], n=n, rand_v_hash=rand_v_hash)\n",
    "\n",
    "                if preimage is not None:\n",
    "                    results[i][j] += 1\n",
    "            \n",
    "            results[i][j] = results[i][j] / N\n",
    "\n",
    "    return results"
   ]
  },
  {
   "cell_type": "code",
   "execution_count": 104,
   "metadata": {},
   "outputs": [
    {
     "name": "stdout",
     "output_type": "stream",
     "text": [
      "None\n"
     ]
    }
   ],
   "source": [
    "rez = test_attack1(N = 0)\n",
    "\n",
    "for l in rez:\n",
    "    print(l)\n",
    "        "
   ]
  },
  {
   "cell_type": "markdown",
   "metadata": {},
   "source": [
    "# Task 2"
   ]
  },
  {
   "cell_type": "code",
   "execution_count": 105,
   "metadata": {},
   "outputs": [],
   "source": [
    "def alg2_extended(K: int, L: int, tables: [[[int, int], ...], ...], r_values: [int, ...], hash_val, n: int, h: Callable) -> int:\n",
    "    m = pow(2, n)\n",
    "    y = [hash_val for i in range(K)]\n",
    "    sorted_tables = []\n",
    "    for table in tables:\n",
    "        sorted_tables.append(sorted(table, key=lambda x: x[1] % m))\n",
    "\n",
    "    # x_s = sorted(x, key=lambda x: x[1] % m)\n",
    "\n",
    "    for j in range(L):\n",
    "        for i in range(K):\n",
    "            id = index(sorted_tables[i], y[i], m)\n",
    "            if id is not None:\n",
    "                x_ = sorted_tables[i][id][0]\n",
    "\n",
    "                for m_ in range(L - (j + 1)):\n",
    "                    x_ = h(r_values[i] + (x_ % m))\n",
    "\n",
    "                r_val = r_values[i] + (x_ % m)\n",
    "                if h(r_val) % m == hash_val % m:\n",
    "                    return r_val\n",
    "                else:\n",
    "                    return None\n",
    "            \n",
    "\n",
    "            y[i] = h(r_values[i] + (y[i] % m))\n",
    "\n",
    "    return None"
   ]
  },
  {
   "cell_type": "code",
   "execution_count": 106,
   "metadata": {},
   "outputs": [],
   "source": [
    "def attack2(K: int, L: int, n: int, rand_v_hash):\n",
    "    m = pow(2, n)\n",
    "    \n",
    "    tables = []\n",
    "    r_values = []\n",
    "    for i in range(K):\n",
    "        _r = random.randint(0, pow(2, 128 - n) - 1)\n",
    "\n",
    "        def R(x: int):\n",
    "            return _r + (x % m)\n",
    "        \n",
    "        alg1_rez = alg1(K=K, L=L, R=R, n=n, h=sha_int_to_int)\n",
    "        tables.append(alg1_rez)\n",
    "        r_values.append(_r)\n",
    "\n",
    "\n",
    "    # for l in x:\n",
    "    #     print(l)\n",
    "\n",
    "    preimage = alg2_extended(K=K, L=L, tables=tables, r_values=r_values, hash_val=rand_v_hash, n=n, h=sha_int_to_int)\n",
    "    \n",
    "    return preimage"
   ]
  },
  {
   "cell_type": "code",
   "execution_count": 107,
   "metadata": {},
   "outputs": [
    {
     "name": "stdout",
     "output_type": "stream",
     "text": [
      "\"Прообраз не знайдено\"\n",
      "\"Прообраз не знайдено\"\n",
      "rand_x = 0x379ffe9c10b456bf2c8ee9ddaf3b3c2fb8b4625ebec58219261638dbc8d35d83\n",
      "rand_x_hash = 0x5586e36ad3aa6ffdd255fcd51bdf29da6c6f0dadd9b06cff532f43b45e609e2e\n",
      "preimage = 0x7df938a7ae953600149ab29469d\n",
      "preimage_hash = 0x1c9b32a1e6d4f23cea384297be89596ece14582985d8a10471d638b2cdb39e2e\n",
      "\"Прообраз не знайдено\"\n",
      "rand_x = 0x71706d441778158237b7105af9473f53f8d838509ea87d6802f3dfd016cc960c\n",
      "rand_x_hash = 0xc12c0d51554f8c15438cc02e646f699e080d7577afaaf5f1c8ddb6faba13727b\n",
      "preimage = 0x946336249927409b1dfd9c71387c\n",
      "preimage_hash = 0x558cd215cf1cf2f6d67396939c0bebb6e7747d008985927119d4f4bbdacf727b\n",
      "rand_x = 0xb7198404d0fba52bb88071edbe5369443a3ed2fa1690cee33c831bf1b6ab2b3d\n",
      "rand_x_hash = 0x78cd9221f5809688e8fbbb35180f7e22c047ac39370398b2a88246ceaa97459b\n",
      "preimage = 0x56ae0fe1a2e59ad0b51d11e2bac9\n",
      "preimage_hash = 0x7264763386e0671c1c310a4dd61bceacfdefb6e2b4d4fbdccc22c13f7789459b\n",
      "\"Прообраз не знайдено\"\n",
      "\"Прообраз не знайдено\"\n",
      "\"Прообраз не знайдено\"\n",
      "\"Прообраз не знайдено\"\n",
      "\"Прообраз не знайдено\"\n",
      "\"Прообраз не знайдено\"\n",
      "\"Прообраз не знайдено\"\n",
      "\"Прообраз не знайдено\"\n",
      "\"Прообраз не знайдено\"\n",
      "\"Прообраз не знайдено\"\n",
      "\"Прообраз не знайдено\"\n",
      "\"Прообраз не знайдено\"\n",
      "\"Прообраз не знайдено\"\n",
      "rand_x = 0x91dc0a3d901a27a41f6ec2712e15b21aa2ee1afffce16b6d5eb80377b8652d0b\n",
      "rand_x_hash = 0xb0c6290a0fb8fc7f21874d296eeb8829a46cd8fbc281a8a0fadcb9b683e85f44\n",
      "preimage = 0x44dce79272c4a76dbd097c9aa885\n",
      "preimage_hash = 0x9e01ed0b719be1f912c0c7c0a39c1d3d77773f457955aeb54eb57833d325f44\n"
     ]
    }
   ],
   "source": [
    "if __name__ == \"__main__\":\n",
    "    for _ in range(20):\n",
    "        K = pow(2, 5)\n",
    "        L = pow(2, 5)\n",
    "        n = 16\n",
    "        \n",
    "        rand_v = random.randint(0, pow(2, 256) - 1)\n",
    "        rand_v_hash = sha_int_to_int(rand_v)\n",
    "\n",
    "\n",
    "        preimage = attack2(K=K, L=L, n=n, rand_v_hash=rand_v_hash)\n",
    "\n",
    "        if preimage is None:\n",
    "            print('\"Прообраз не знайдено\"')\n",
    "        else:\n",
    "            preimage_hash = sha_int_to_int(preimage)\n",
    "            print(f\"rand_x = {hex(rand_v)}\")\n",
    "            print(f\"rand_x_hash = {hex(rand_v_hash)}\")\n",
    "            print(f\"preimage = {hex(preimage)}\")\n",
    "            print(f\"preimage_hash = {hex(preimage_hash)}\")"
   ]
  },
  {
   "cell_type": "code",
   "execution_count": 108,
   "metadata": {},
   "outputs": [],
   "source": [
    "def test_attack2(N: int):\n",
    "    if N < 1:\n",
    "        return [None]\n",
    "\n",
    "    n = 16\n",
    "\n",
    "    K_vals = [pow(2, 5), pow(2, 6), pow(2, 7)]\n",
    "    L_vals = [pow(2, 5), pow(2, 6), pow(2, 7)]\n",
    "    results = [[0 for j in range(3)] for i in range(3)]\n",
    "\n",
    "    for i in range(3):\n",
    "        for j in range(3):\n",
    "            for k in range(N):\n",
    "                rand_v = random.randint(0, pow(2, 256) - 1)\n",
    "                rand_v_hash = sha_int_to_int(rand_v)\n",
    "                preimage = attack2(K=K_vals[i], L=L_vals[j], n=n, rand_v_hash=rand_v_hash)\n",
    "\n",
    "                if preimage is not None:\n",
    "                    results[i][j] += 1\n",
    "            \n",
    "            results[i][j] = results[i][j] / N\n",
    "\n",
    "    return results"
   ]
  },
  {
   "cell_type": "code",
   "execution_count": 109,
   "metadata": {},
   "outputs": [],
   "source": [
    "\n",
    "from datetime import datetime"
   ]
  },
  {
   "cell_type": "code",
   "execution_count": 110,
   "metadata": {},
   "outputs": [
    {
     "name": "stdout",
     "output_type": "stream",
     "text": [
      "None\n"
     ]
    }
   ],
   "source": [
    "rez2 = test_attack2(N = 0)\n",
    "\n",
    "for l in rez2:\n",
    "    print(l)\n",
    "        "
   ]
  },
  {
   "cell_type": "markdown",
   "metadata": {},
   "source": [
    "# Halman Theorem (Probability)"
   ]
  },
  {
   "cell_type": "code",
   "execution_count": 160,
   "metadata": {},
   "outputs": [],
   "source": [
    "from mpmath import mpf, mpc, mp, mpmathify, fadd, fdiv, fsub, fmul\n",
    "from math import trunc"
   ]
  },
  {
   "cell_type": "code",
   "execution_count": 172,
   "metadata": {},
   "outputs": [],
   "source": [
    "def calc_halman_probability(n, K, L):\n",
    "    # m - K, t - L\n",
    "    N = pow(2, n)\n",
    "\n",
    "    sum = 0 \n",
    "    for i in range(1, K + 1):\n",
    "        for j in range(L):\n",
    "            # sum += pow(mpmathify(1) - mpmathify(mpmathify(i * L) / mpmathify(N)), j + 1)\n",
    "            p = fsub(1, fdiv(i * L, N))\n",
    "            ppp = 1\n",
    "            for i in range(j + 1):\n",
    "                ppp = fmul(ppp, p)\n",
    "\n",
    "            sum = fadd(sum, ppp)\n",
    "\n",
    "    return fdiv(sum, N)"
   ]
  },
  {
   "cell_type": "code",
   "execution_count": 173,
   "metadata": {},
   "outputs": [],
   "source": [
    "# def calc_halman_probability(n, K, L):\n",
    "#     # m - K, t - L\n",
    "#     N = pow(2, n)\n",
    "\n",
    "#     sum = 0 \n",
    "#     for i in range(1, K + 1):\n",
    "#         p = fsub(1, fdiv(i * L, N))\n",
    "\n",
    "#         ppp = 1\n",
    "#         for t in range(L + 1):\n",
    "#             ppp = fmul(ppp, p)\n",
    "\n",
    "#         sum = fadd(sum, fdiv(fsub(1, ppp), fsub(1, p)))\n",
    "#         sum = fsub(sum, 1)\n",
    "\n",
    "\n",
    "#     return fdiv(sum, N)"
   ]
  },
  {
   "cell_type": "code",
   "execution_count": 176,
   "metadata": {},
   "outputs": [
    {
     "name": "stdout",
     "output_type": "stream",
     "text": [
      "0\\% & 0\\% & 0\\% & \n",
      "0\\% & 0\\% & 0\\% & \n",
      "0\\% & 0\\% & 0\\% & \n"
     ]
    }
   ],
   "source": [
    "K_vals = [pow(2, 10), pow(2, 12), pow(2, 14)]\n",
    "L_vals = [pow(2, 5), pow(2, 6), pow(2, 7)]\n",
    "results = [[0 for j in range(3)] for i in range(3)]\n",
    "\n",
    "for i in range(3):\n",
    "    for j in range(3):\n",
    "        p = calc_halman_probability(n=16, K=K_vals[i], L=L_vals[j])\n",
    "        # print(p)\n",
    "        print(f\"{int(p* 100)}\\% & \", end=\"\")\n",
    "    \n",
    "    print(\"\")"
   ]
  },
  {
   "cell_type": "code",
   "execution_count": 177,
   "metadata": {},
   "outputs": [
    {
     "name": "stdout",
     "output_type": "stream",
     "text": [
      "K tables probabilities\n",
      "35\\% & 36\\% & 27\\% & \n",
      "82\\% & 83\\% & 72\\% & \n",
      "99\\% & 99\\% & 99\\% & \n"
     ]
    }
   ],
   "source": [
    "K_vals = [pow(2, 5), pow(2, 6), pow(2, 7)]\n",
    "L_vals = [pow(2, 5), pow(2, 6), pow(2, 7)]\n",
    "results = [[0 for j in range(3)] for i in range(3)]\n",
    "\n",
    "for i in range(3):\n",
    "    for j in range(3):\n",
    "        p = calc_halman_probability(n=16, K=K_vals[i], L=L_vals[j])\n",
    "        results[i][j] = 1 - pow(1 - p, K_vals[i])\n",
    "\n",
    "\n",
    "\n",
    "print(\"K tables probabilities\")\n",
    "for l in results:\n",
    "    for i in l:\n",
    "        print(f\"{int(i * 100)}\\% & \", end=\"\")\n",
    "    \n",
    "    print(\"\")"
   ]
  }
 ],
 "metadata": {
  "kernelspec": {
   "display_name": "Python 3",
   "language": "python",
   "name": "python3"
  },
  "language_info": {
   "codemirror_mode": {
    "name": "ipython",
    "version": 3
   },
   "file_extension": ".py",
   "mimetype": "text/x-python",
   "name": "python",
   "nbconvert_exporter": "python",
   "pygments_lexer": "ipython3",
   "version": "3.11.7"
  }
 },
 "nbformat": 4,
 "nbformat_minor": 2
}
